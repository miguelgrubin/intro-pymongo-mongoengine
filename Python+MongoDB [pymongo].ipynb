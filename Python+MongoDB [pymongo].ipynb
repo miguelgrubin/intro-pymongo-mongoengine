{
 "cells": [
  {
   "cell_type": "markdown",
   "metadata": {},
   "source": [
    "# Python + MongoDB\n",
    "\n",
    "## Conectando con la base de datos"
   ]
  },
  {
   "cell_type": "code",
   "execution_count": 13,
   "metadata": {},
   "outputs": [],
   "source": [
    "import datetime\n",
    "\n",
    "from pymongo import MongoClient\n",
    "\n",
    "client = MongoClient('localhost', 27017)\n",
    "\n",
    "db = client['pyBlog']\n",
    "collection = db['posts']"
   ]
  },
  {
   "cell_type": "markdown",
   "metadata": {},
   "source": [
    "## CRUD básico sobre un solo documento"
   ]
  },
  {
   "cell_type": "code",
   "execution_count": 14,
   "metadata": {},
   "outputs": [
    {
     "name": "stdout",
     "output_type": "stream",
     "text": [
      "Post UID: 5d7567aca31446afc2f8e32d\n"
     ]
    },
    {
     "data": {
      "text/plain": [
       "<pymongo.results.InsertOneResult at 0x7f20565d67d0>"
      ]
     },
     "execution_count": 14,
     "metadata": {},
     "output_type": "execute_result"
    }
   ],
   "source": [
    "\"\"\"   INSERT ROW   \"\"\"\n",
    "new_post = {\n",
    "    \"author\": \"Miguel García Rubín\",\n",
    "    \"title\": \"My first blog post!\",\n",
    "    \"tags\": [\"mongodb\", \"python\", \"pymongo\"],\n",
    "    \"date\": datetime.datetime.utcnow()\n",
    "}\n",
    "insert_one_result = collection.insert_one(new_post)\n",
    "print(\"Post ObjectID:\", insert_one_result.inserted_id)\n",
    "insert_one_result"
   ]
  },
  {
   "cell_type": "code",
   "execution_count": 15,
   "metadata": {},
   "outputs": [
    {
     "name": "stdout",
     "output_type": "stream",
     "text": [
      "Result type: <class 'dict'>\n"
     ]
    },
    {
     "data": {
      "text/plain": [
       "{'_id': ObjectId('5d7567aca31446afc2f8e32d'),\n",
       " 'author': 'Miguel García Rubín',\n",
       " 'title': 'My first blog post!',\n",
       " 'tags': ['mongodb', 'python', 'pymongo'],\n",
       " 'date': datetime.datetime(2019, 9, 8, 20, 42, 20, 128000)}"
      ]
     },
     "execution_count": 15,
     "metadata": {},
     "output_type": "execute_result"
    }
   ],
   "source": [
    "\"\"\"   FIND ONE   \"\"\"\n",
    "one_post = collection.find_one({\"author\": \"Miguel García Rubín\"})\n",
    "print(\"Result type:\", type(one_post))\n",
    "one_post"
   ]
  },
  {
   "cell_type": "code",
   "execution_count": 16,
   "metadata": {},
   "outputs": [
    {
     "name": "stdout",
     "output_type": "stream",
     "text": [
      "Encontrados: 1\n",
      "Modificados: 1\n"
     ]
    },
    {
     "data": {
      "text/plain": [
       "<pymongo.results.UpdateResult at 0x7f2056510cd0>"
      ]
     },
     "execution_count": 16,
     "metadata": {},
     "output_type": "execute_result"
    }
   ],
   "source": [
    "\"\"\"   UPDATE ONE   \"\"\"\n",
    "update_one_result = collection.update_one(\n",
    "    {'_id': one_post['_id']},\n",
    "    {'$set':{ 'title': 'My first Python blog post!!'}}\n",
    ")\n",
    "print(\"Encontrados:\", update_one_result.matched_count)\n",
    "print(\"Modificados:\", update_one_result.modified_count)\n",
    "update_one_result"
   ]
  },
  {
   "cell_type": "markdown",
   "metadata": {},
   "source": [
    "[update syntax](https://docs.mongodb.com/manual/reference/method/db.collection.update/)\n",
    "[update operators](https://docs.mongodb.com/manual/reference/operator/update/#id1)"
   ]
  },
  {
   "cell_type": "code",
   "execution_count": 17,
   "metadata": {},
   "outputs": [
    {
     "name": "stdout",
     "output_type": "stream",
     "text": [
      "Borrados: 1\n"
     ]
    },
    {
     "data": {
      "text/plain": [
       "<pymongo.results.DeleteResult at 0x7f2056510960>"
      ]
     },
     "execution_count": 17,
     "metadata": {},
     "output_type": "execute_result"
    }
   ],
   "source": [
    "\"\"\"   DELETE ONE   \"\"\"\n",
    "delete_one_result = collection.delete_one({'_id': one_post['_id']})\n",
    "print(\"Borrados:\", delete_one_result.deleted_count)\n",
    "delete_one_result"
   ]
  },
  {
   "cell_type": "markdown",
   "metadata": {},
   "source": [
    "## Operaciónes sobre varios documentos"
   ]
  },
  {
   "cell_type": "code",
   "execution_count": 20,
   "metadata": {},
   "outputs": [
    {
     "name": "stdout",
     "output_type": "stream",
     "text": [
      "[ObjectId('5d756d3ba31446afc2f8e331'), ObjectId('5d756d3ba31446afc2f8e332'), ObjectId('5d756d3ba31446afc2f8e333')]\n"
     ]
    },
    {
     "data": {
      "text/plain": [
       "<pymongo.results.InsertManyResult at 0x7f20564f8410>"
      ]
     },
     "execution_count": 20,
     "metadata": {},
     "output_type": "execute_result"
    }
   ],
   "source": [
    "\"\"\"   INSERT MANY   \"\"\"\n",
    "new_posts = [\n",
    "    {\n",
    "        \"author\": \"Josh Stark\",\n",
    "        \"title\": \"Managing your music collection with beets\",\n",
    "        \"tags\": [\"python\", \"audio\", \"MusicBrainz\"],\n",
    "        \"date\": datetime.datetime(2016, 10, 8),\n",
    "        \"views\": 9320,\n",
    "        \"likes\": 182,\n",
    "        \"comments\": [\n",
    "            {\n",
    "                \"name\": \"Phuriousgeorge\",\n",
    "                \"content\": \"I can't believe there's no comments here!\",\n",
    "                \"likes\": 3\n",
    "            }\n",
    "        ]\n",
    "    },\n",
    "    {\n",
    "        \"author\": \"Josh Stark\",\n",
    "        \"title\": \"Using Docker networks for better inter-container communication\",\n",
    "        \"tags\": [\"docker\", \"docker-compose\"],\n",
    "        \"date\": datetime.datetime(2017, 10, 17),\n",
    "        \"views\": 5274,\n",
    "        \"likes\": 73,\n",
    "        \"comments\": []\n",
    "    },\n",
    "    {\n",
    "        \"author\": \"Miguel García Rubín\",\n",
    "        \"title\": \"My first blog post!\",\n",
    "        \"tags\": [\"python\", \"mongodb\", \"pymongo\"],\n",
    "        \"date\": datetime.datetime.utcnow(),\n",
    "        \"views\": 27,\n",
    "        \"likes\": 0,\n",
    "    },\n",
    "]\n",
    "insert_many_result = collection.insert_many(new_posts)\n",
    "print(insert_many_result.inserted_ids)\n",
    "insert_many_result"
   ]
  },
  {
   "cell_type": "code",
   "execution_count": 23,
   "metadata": {},
   "outputs": [],
   "source": [
    "\"\"\"   UPDATE MANY   \"\"\"\n",
    "update_many_result = collection.update_many({\"author\": \"Josh Stark\"}, {\"$inc\": {\"likes\": 1}})"
   ]
  },
  {
   "cell_type": "code",
   "execution_count": 19,
   "metadata": {},
   "outputs": [],
   "source": [
    "\"\"\"   DELETE MANY   \"\"\"\n",
    "delete_many_result = collection.delete_many({\"date\": {\"$gt\": datetime.datetime(2000, 1, 1)}})"
   ]
  },
  {
   "cell_type": "markdown",
   "metadata": {},
   "source": [
    "## Queries sobre MongoDB"
   ]
  },
  {
   "cell_type": "code",
   "execution_count": null,
   "metadata": {},
   "outputs": [],
   "source": [
    "    "
   ]
  }
 ],
 "metadata": {
  "kernelspec": {
   "display_name": "Python 3",
   "language": "python",
   "name": "python3"
  },
  "language_info": {
   "codemirror_mode": {
    "name": "ipython",
    "version": 3
   },
   "file_extension": ".py",
   "mimetype": "text/x-python",
   "name": "python",
   "nbconvert_exporter": "python",
   "pygments_lexer": "ipython3",
   "version": "3.7.4"
  }
 },
 "nbformat": 4,
 "nbformat_minor": 2
}
