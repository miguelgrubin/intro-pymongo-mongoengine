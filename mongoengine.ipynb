{
 "cells": [
  {
   "cell_type": "markdown",
   "metadata": {},
   "source": [
    "# MongoEngine - Un ORM para no perder la cordura\n",
    "\n",
    "## Conectando con la base de datos"
   ]
  },
  {
   "cell_type": "code",
   "execution_count": null,
   "metadata": {},
   "outputs": [],
   "source": [
    "from mongoengine import connect, Document, EmbeddedDocument\n",
    "from mongoengine.fields import EmbeddedDocumentField, StringField, ListField, IntField\n",
    "# connect('pyBlog', host='localhost', port=27017)\n",
    "connect('pyBlog')\n"
   ]
  },
  {
   "cell_type": "markdown",
   "metadata": {},
   "source": [
    "## Definición de documentos"
   ]
  },
  {
   "cell_type": "code",
   "execution_count": null,
   "metadata": {},
   "outputs": [],
   "source": [
    "class Comment(EmbeddedDocument):\n",
    "    content = StringField()\n",
    "    name = StringField(max_length=120)\n",
    "    likes = IntField(default=0)\n",
    "\n",
    "\n",
    "class Post(Document):\n",
    "    meta = {'collection': 'posts'}\n",
    "    title = StringField(max_length=120, required=True)\n",
    "    author = StringField(required=True)\n",
    "    tags = ListField(StringField(max_length=30))\n",
    "    comments = ListField(EmbeddedDocumentField(Comment))\n",
    "    likes = IntField(default=0)\n",
    "    views = IntField(default=0)\n",
    "\n"
   ]
  },
  {
   "cell_type": "markdown",
   "metadata": {},
   "source": [
    "## La primera transacción sin dolor"
   ]
  },
  {
   "cell_type": "code",
   "execution_count": null,
   "metadata": {},
   "outputs": [],
   "source": [
    "comments = [\n",
    "    {'name': 'Shashank Vivek', 'content': 'Great Article ! Thanks', 'likes': 10}\n",
    "]\n",
    "new_post = Post(title=\"Introduction to MongoDB and Python\", author=\"Real Python\",\n",
    "                tags=[\"python\", \"pymongo\", \"mongoengine\"], comments=comments)\n",
    "new_post.save()\n",
    "new_post"
   ]
  },
  {
   "cell_type": "markdown",
   "metadata": {},
   "source": [
    "## Pythonic Queries "
   ]
  },
  {
   "cell_type": "code",
   "execution_count": null,
   "metadata": {},
   "outputs": [],
   "source": [
    "for post in Post.objects(author='Josh Stark'):\n",
    "    print(post)"
   ]
  },
  {
   "cell_type": "code",
   "execution_count": null,
   "metadata": {},
   "outputs": [],
   "source": []
  }
 ],
 "metadata": {
  "kernelspec": {
   "display_name": "Python 3",
   "language": "python",
   "name": "python3"
  },
  "language_info": {
   "codemirror_mode": {
    "name": "ipython",
    "version": 3
   },
   "file_extension": ".py",
   "mimetype": "text/x-python",
   "name": "python",
   "nbconvert_exporter": "python",
   "pygments_lexer": "ipython3",
   "version": "3.7.4"
  }
 },
 "nbformat": 4,
 "nbformat_minor": 2
}
