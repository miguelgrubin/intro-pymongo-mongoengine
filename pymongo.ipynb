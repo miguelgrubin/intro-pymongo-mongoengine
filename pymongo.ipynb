{
 "cells": [
  {
   "cell_type": "markdown",
   "metadata": {},
   "source": [
    "# PyMongo - La piedra angular\n",
    "\n",
    "## Conectando con la base de datos"
   ]
  },
  {
   "cell_type": "code",
   "execution_count": null,
   "metadata": {},
   "outputs": [],
   "source": [
    "import datetime\n",
    "\n",
    "from pymongo import MongoClient\n",
    "\n",
    "client = MongoClient('localhost', 27017)\n",
    "\n",
    "db = client['pyBlog']\n",
    "collection = db['posts']"
   ]
  },
  {
   "cell_type": "markdown",
   "metadata": {},
   "source": [
    "## CRUD básico sobre un solo documento"
   ]
  },
  {
   "cell_type": "code",
   "execution_count": null,
   "metadata": {},
   "outputs": [],
   "source": [
    "\"\"\"   INSERT ROW   \"\"\"\n",
    "new_post = {\n",
    "    \"author\": \"Miguel García Rubín\",\n",
    "    \"title\": \"My first blog post!\",\n",
    "    \"tags\": [\"mongodb\", \"python\", \"pymongo\"],\n",
    "    \"date\": datetime.datetime.utcnow()\n",
    "}\n",
    "insert_one_result = collection.insert_one(new_post)\n",
    "print(\"Post ObjectID:\", insert_one_result.inserted_id)\n",
    "insert_one_result"
   ]
  },
  {
   "cell_type": "code",
   "execution_count": null,
   "metadata": {},
   "outputs": [],
   "source": [
    "\"\"\"   FIND ONE   \"\"\"\n",
    "one_post = collection.find_one({\"author\": \"Miguel García Rubín\"})\n",
    "print(\"Result type:\", type(one_post))\n",
    "one_post"
   ]
  },
  {
   "cell_type": "code",
   "execution_count": null,
   "metadata": {},
   "outputs": [],
   "source": [
    "\"\"\"   UPDATE ONE   \"\"\"\n",
    "update_one_result = collection.update_one(\n",
    "    {'_id': one_post['_id']},\n",
    "    {'$set':{ 'title': 'My first Python blog post!!'}}\n",
    ")\n",
    "print(\"Encontrados:\", update_one_result.matched_count)\n",
    "print(\"Modificados:\", update_one_result.modified_count)\n",
    "update_one_result"
   ]
  },
  {
   "cell_type": "markdown",
   "metadata": {},
   "source": [
    "[update syntax](https://docs.mongodb.com/manual/reference/method/db.collection.update/)\n",
    "[update operators](https://docs.mongodb.com/manual/reference/operator/update/#id1)"
   ]
  },
  {
   "cell_type": "code",
   "execution_count": null,
   "metadata": {},
   "outputs": [],
   "source": [
    "\"\"\"   DELETE ONE   \"\"\"\n",
    "delete_one_result = collection.delete_one({'_id': one_post['_id']})\n",
    "print(\"Borrados:\", delete_one_result.deleted_count)\n",
    "delete_one_result"
   ]
  },
  {
   "cell_type": "markdown",
   "metadata": {},
   "source": [
    "## Operaciónes sobre varios documentos"
   ]
  },
  {
   "cell_type": "code",
   "execution_count": null,
   "metadata": {},
   "outputs": [],
   "source": [
    "\"\"\"   INSERT MANY   \"\"\"\n",
    "new_posts = [\n",
    "    {\n",
    "        \"author\": \"Josh Stark\",\n",
    "        \"title\": \"Managing your music collection with beets\",\n",
    "        \"tags\": [\"python\", \"audio\", \"MusicBrainz\"],\n",
    "        \"date\": datetime.datetime(2016, 10, 8),\n",
    "        \"views\": 9320,\n",
    "        \"likes\": 182,\n",
    "        \"comments\": [\n",
    "            {\n",
    "                \"name\": \"Phuriousgeorge\",\n",
    "                \"content\": \"I can't believe there's no comments here!\",\n",
    "                \"likes\": 3\n",
    "            }\n",
    "        ]\n",
    "    },\n",
    "    {\n",
    "        \"author\": \"Josh Stark\",\n",
    "        \"title\": \"Using Docker networks for better inter-container communication\",\n",
    "        \"tags\": [\"docker\", \"docker-compose\"],\n",
    "        \"date\": datetime.datetime(2017, 10, 17),\n",
    "        \"views\": 5274,\n",
    "        \"likes\": 99,\n",
    "        \"comments\": []\n",
    "    },\n",
    "    {\n",
    "        \"author\": \"Miguel García Rubín\",\n",
    "        \"title\": \"My first blog post!\",\n",
    "        \"tags\": [\"python\", \"mongodb\", \"pymongo\"],\n",
    "        \"date\": datetime.datetime.utcnow(),\n",
    "        \"views\": 27,\n",
    "        \"likes\": 0,\n",
    "    },\n",
    "]\n",
    "insert_many_result = collection.insert_many(new_posts)\n",
    "print(insert_many_result.inserted_ids)\n",
    "insert_many_result"
   ]
  },
  {
   "cell_type": "code",
   "execution_count": null,
   "metadata": {},
   "outputs": [],
   "source": [
    "\"\"\"   UPDATE MANY   \"\"\"\n",
    "update_many_result = collection.update_many({\"author\": \"Josh Stark\"}, {\"$inc\": {\"likes\": 1}})"
   ]
  },
  {
   "cell_type": "code",
   "execution_count": null,
   "metadata": {},
   "outputs": [],
   "source": [
    "\"\"\"   DELETE MANY   \"\"\"\n",
    "delete_many_result = collection.delete_many({\"date\": {\"$gt\": datetime.datetime(2000, 1, 1)}})"
   ]
  },
  {
   "cell_type": "markdown",
   "metadata": {},
   "source": [
    "## Queries sobre MongoDB"
   ]
  },
  {
   "cell_type": "code",
   "execution_count": null,
   "metadata": {},
   "outputs": [],
   "source": [
    "query = {'likes': {'$gt': 50, '$lte': 100}}\n",
    "find_post_results = collection.find(query)\n",
    "print('Resultados:', collection.count_documents(query))\n",
    "for post_result in find_post_results:\n",
    "    print('  Titulo:', post_result.get('title'))\n",
    "    print('  Autor:', post_result['author'])\n",
    "    print('  Likes:', post_result.get('likes', 0), '\\n')\n",
    "find_post_results"
   ]
  },
  {
   "cell_type": "code",
   "execution_count": null,
   "metadata": {},
   "outputs": [],
   "source": [
    "query = {'tags': {\"$in\": ['python', 'music']}}\n",
    "find_post_results = collection.find(query)\n",
    "print('Resultados:', collection.count_documents(query))\n",
    "for post_result in find_post_results:\n",
    "    print('  Titulo:', post_result.get('title'))\n",
    "    print('  Autor:', post_result.get('author'))\n",
    "    print('  Tags:', post_result.get('tags'), '\\n')\n",
    "find_post_results"
   ]
  },
  {
   "cell_type": "code",
   "execution_count": null,
   "metadata": {},
   "outputs": [],
   "source": [
    "query = {'comments.0.name': {\"$exists\": true}}\n",
    "print('Resultados:', collection.count_documents(query))"
   ]
  },
  {
   "cell_type": "code",
   "execution_count": null,
   "metadata": {},
   "outputs": [],
   "source": [
    "query = {\n",
    "    '$or': [\n",
    "        {'comments': {'$elemMatch': {'likes': {\"$gt\": 0}}}},\n",
    "        {'likes': {'$gt': 50}}\n",
    "    ]\n",
    "}\n",
    "find_post_results = collection.find(query)\n",
    "for post_result in find_post_results:\n",
    "    print('  Titulo:', post_result.get('title'))\n",
    "    print('  Autor:', post_result.get('author'))\n",
    "    print('  Likes:', post_result.get('likes', 0), '\\n')"
   ]
  },
  {
   "cell_type": "markdown",
   "metadata": {},
   "source": [
    "[query operators](https://docs.mongodb.com/manual/reference/operator/query/)"
   ]
  },
  {
   "cell_type": "code",
   "execution_count": null,
   "metadata": {},
   "outputs": [],
   "source": []
  }
 ],
 "metadata": {
  "kernelspec": {
   "display_name": "Python 3",
   "language": "python",
   "name": "python3"
  },
  "language_info": {
   "codemirror_mode": {
    "name": "ipython",
    "version": 3
   },
   "file_extension": ".py",
   "mimetype": "text/x-python",
   "name": "python",
   "nbconvert_exporter": "python",
   "pygments_lexer": "ipython3",
   "version": "3.7.4"
  }
 },
 "nbformat": 4,
 "nbformat_minor": 2
}
